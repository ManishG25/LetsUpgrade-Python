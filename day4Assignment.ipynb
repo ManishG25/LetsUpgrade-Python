{
  "nbformat": 4,
  "nbformat_minor": 0,
  "metadata": {
    "colab": {
      "name": "day4Assignment.ipynb",
      "provenance": [],
      "collapsed_sections": []
    },
    "kernelspec": {
      "name": "python3",
      "display_name": "Python 3"
    }
  },
  "cells": [
    {
      "cell_type": "markdown",
      "metadata": {
        "id": "qqP28Ek9O5g8"
      },
      "source": [
        "Question 1"
      ]
    },
    {
      "cell_type": "code",
      "metadata": {
        "id": "628eoRjBO-_E"
      },
      "source": [
        "b=open('def.txt','w')\r\n",
        "b.write('I love LetsUpgrade')\r\n",
        "b.close()"
      ],
      "execution_count": 8,
      "outputs": []
    },
    {
      "cell_type": "code",
      "metadata": {
        "colab": {
          "base_uri": "https://localhost:8080/"
        },
        "id": "Oo6xTZSBTX6g",
        "outputId": "e39ad63f-a7c8-437c-e7c8-780854a6610a"
      },
      "source": [
        "b=open('def.txt','r')\r\n",
        "c=b.read()\r\n",
        "print(c)\r\n",
        "b.close()"
      ],
      "execution_count": 9,
      "outputs": [
        {
          "output_type": "stream",
          "text": [
            "I love LetsUpgrade\n"
          ],
          "name": "stdout"
        }
      ]
    },
    {
      "cell_type": "code",
      "metadata": {
        "id": "NtdWu33EXaGP"
      },
      "source": [
        "b=open('def.txt','a')\r\n",
        "b.write('good morning')\r\n",
        "b.close()"
      ],
      "execution_count": 14,
      "outputs": []
    },
    {
      "cell_type": "code",
      "metadata": {
        "colab": {
          "base_uri": "https://localhost:8080/"
        },
        "id": "W-Zxw7nAYiLh",
        "outputId": "e5c74769-a678-4d19-9dd2-edd0d902f9d4"
      },
      "source": [
        "b=open('def.txt','r')\r\n",
        "c=b.read()\r\n",
        "print(c)\r\n",
        "b.close()"
      ],
      "execution_count": 15,
      "outputs": [
        {
          "output_type": "stream",
          "text": [
            "I love LetsUpgradegood morning\n"
          ],
          "name": "stdout"
        }
      ]
    },
    {
      "cell_type": "markdown",
      "metadata": {
        "id": "Pjgq1crUZQDo"
      },
      "source": [
        "Question 2"
      ]
    },
    {
      "cell_type": "code",
      "metadata": {
        "colab": {
          "base_uri": "https://localhost:8080/"
        },
        "id": "sPokf-fyZT-N",
        "outputId": "677fe597-4672-4ab9-d7b1-da2b373147aa"
      },
      "source": [
        "def fact(b):\r\n",
        "  if b<=2:\r\n",
        "    return b\r\n",
        "  else:\r\n",
        "    return b*fact(b-1)  \r\n",
        "a=int(input())\r\n",
        "b=fact(a)\r\n",
        "print(b)"
      ],
      "execution_count": 17,
      "outputs": [
        {
          "output_type": "stream",
          "text": [
            "4\n",
            "24\n"
          ],
          "name": "stdout"
        }
      ]
    }
  ]
}