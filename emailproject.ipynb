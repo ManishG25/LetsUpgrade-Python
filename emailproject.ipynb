{
  "nbformat": 4,
  "nbformat_minor": 0,
  "metadata": {
    "colab": {
      "name": "emailproject.ipynb",
      "provenance": [],
      "collapsed_sections": []
    },
    "kernelspec": {
      "name": "python3",
      "display_name": "Python 3"
    }
  },
  "cells": [
    {
      "cell_type": "code",
      "metadata": {
        "id": "tk_kLBidCnGZ"
      },
      "source": [
        "!pip install emails\r\n",
        "import emails\r\n",
        "def sendmail(mail):\r\n",
        "  message = emails.html(html='<p>Hey guys i am receiving mail</p>',\r\n",
        "                            subject=\"YOUR EMAIL FROM PYTHON SCRIPT\",\r\n",
        "                            mail_from=('Star', 'str@abc.com'))\r\n",
        "  mail_via_python = message.send(to='xijal23572@95ta.com', \r\n",
        "                                smtp={'host': 'smtp.gmail.com', \r\n",
        "                                      'timeout': 5,\r\n",
        "                                      'port':587,\r\n",
        "                                      'user':'star25@gmail.com',\r\n",
        "                                      'password':'ma#k25',\r\n",
        "                                      'tls':True})\r\n",
        "  return mail_via_python.status_code"
      ],
      "execution_count": null,
      "outputs": []
    }
  ]
}