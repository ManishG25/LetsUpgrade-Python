{
  "nbformat": 4,
  "nbformat_minor": 0,
  "metadata": {
    "colab": {
      "name": "cryptographyproject.ipynb",
      "provenance": [],
      "collapsed_sections": []
    },
    "kernelspec": {
      "name": "python3",
      "display_name": "Python 3"
    }
  },
  "cells": [
    {
      "cell_type": "code",
      "metadata": {
        "id": "yxtEEICvv98b"
      },
      "source": [
        "!pip install cryptography\r\n",
        "from cryptography.fernet import Fernet\r\n",
        "def generateKey():\r\n",
        "  key=Fernet.generate_key()\r\n",
        "  f=open('Cryptokey.key','wb')\r\n",
        "  f.write(key)\r\n",
        "  f.close()\r\n",
        "def myKey():\r\n",
        "  f=open('Cryptokey.key','rb')\r\n",
        "  key=f.read()\r\n",
        "  f.close()\r\n",
        "  return key \r\n",
        "def userMessage():\r\n",
        "  return input(\"Enter the message to be encrypted\")\r\n",
        "def encryptMessage(message):\r\n",
        "  key=myKey()\r\n",
        "  k=Fernet(key)\r\n",
        "  encryptedmessage=k.encrypt(message)\r\n",
        "  return encryptedmessage\r\n",
        "def decryptMessage(message):\r\n",
        "  key=myKey()\r\n",
        "  k=Fernet(key)\r\n",
        "  decryptedmessage=k.decrypt(message)\r\n",
        "  return decryptedmessage\r\n",
        "normalText=userMessage()\r\n",
        "key=generateKey()\r\n",
        "em=encryptMessage(normalText)\r\n",
        "dm=decryptMessage(em)\r\n"
      ],
      "execution_count": null,
      "outputs": []
    }
  ]
}