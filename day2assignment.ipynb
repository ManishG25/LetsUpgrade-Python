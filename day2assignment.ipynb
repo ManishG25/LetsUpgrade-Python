{
  "nbformat": 4,
  "nbformat_minor": 0,
  "metadata": {
    "colab": {
      "name": "day2assignment.ipynb",
      "provenance": [],
      "collapsed_sections": []
    },
    "kernelspec": {
      "name": "python3",
      "display_name": "Python 3"
    }
  },
  "cells": [
    {
      "cell_type": "markdown",
      "metadata": {
        "id": "fHB---JpXueA"
      },
      "source": [
        "Five functions of string "
      ]
    },
    {
      "cell_type": "code",
      "metadata": {
        "colab": {
          "base_uri": "https://localhost:8080/"
        },
        "id": "TCKfpxrTXkv1",
        "outputId": "4f5f050c-668f-4697-d027-017f67a7edeb"
      },
      "source": [
        "a=\"Hello world\"\r\n",
        "a.count('H')"
      ],
      "execution_count": 2,
      "outputs": [
        {
          "output_type": "execute_result",
          "data": {
            "text/plain": [
              "1"
            ]
          },
          "metadata": {
            "tags": []
          },
          "execution_count": 2
        }
      ]
    },
    {
      "cell_type": "code",
      "metadata": {
        "colab": {
          "base_uri": "https://localhost:8080/",
          "height": 35
        },
        "id": "J1oC1LcVZEvi",
        "outputId": "42a89a7b-c2bd-4909-c1e9-d4429fc2ee04"
      },
      "source": [
        "c=\"apple, orange, banana\"\r\n",
        "c.capitalize()"
      ],
      "execution_count": 4,
      "outputs": [
        {
          "output_type": "execute_result",
          "data": {
            "application/vnd.google.colaboratory.intrinsic+json": {
              "type": "string"
            },
            "text/plain": [
              "'Apple, orange, banana'"
            ]
          },
          "metadata": {
            "tags": []
          },
          "execution_count": 4
        }
      ]
    },
    {
      "cell_type": "code",
      "metadata": {
        "colab": {
          "base_uri": "https://localhost:8080/",
          "height": 35
        },
        "id": "YUXVvpxlaloP",
        "outputId": "91e294e9-c396-4250-e4c0-49215e3e8e66"
      },
      "source": [
        "b=\"Arun,John,Sanjay\"\r\n",
        "b.casefold()"
      ],
      "execution_count": 13,
      "outputs": [
        {
          "output_type": "execute_result",
          "data": {
            "application/vnd.google.colaboratory.intrinsic+json": {
              "type": "string"
            },
            "text/plain": [
              "'arun,john,sanjay'"
            ]
          },
          "metadata": {
            "tags": []
          },
          "execution_count": 13
        }
      ]
    },
    {
      "cell_type": "code",
      "metadata": {
        "colab": {
          "base_uri": "https://localhost:8080/",
          "height": 35
        },
        "id": "gXTC9SpjzEtB",
        "outputId": "3220080a-546b-462c-e35a-09c5442dad35"
      },
      "source": [
        "d=\"Hello world\"\r\n",
        "d.lower()"
      ],
      "execution_count": 16,
      "outputs": [
        {
          "output_type": "execute_result",
          "data": {
            "application/vnd.google.colaboratory.intrinsic+json": {
              "type": "string"
            },
            "text/plain": [
              "'hello world'"
            ]
          },
          "metadata": {
            "tags": []
          },
          "execution_count": 16
        }
      ]
    },
    {
      "cell_type": "code",
      "metadata": {
        "colab": {
          "base_uri": "https://localhost:8080/",
          "height": 35
        },
        "id": "W9ba0KGg0wso",
        "outputId": "10da2aec-4372-47bf-d31e-a6564314b4b8"
      },
      "source": [
        "e=\"hello world\"\r\n",
        "e.title()\r\n"
      ],
      "execution_count": 18,
      "outputs": [
        {
          "output_type": "execute_result",
          "data": {
            "application/vnd.google.colaboratory.intrinsic+json": {
              "type": "string"
            },
            "text/plain": [
              "'Hello World'"
            ]
          },
          "metadata": {
            "tags": []
          },
          "execution_count": 18
        }
      ]
    },
    {
      "cell_type": "markdown",
      "metadata": {
        "id": "Kp5CIPn61rZ_"
      },
      "source": [
        "Five functions of list"
      ]
    },
    {
      "cell_type": "code",
      "metadata": {
        "colab": {
          "base_uri": "https://localhost:8080/"
        },
        "id": "DwKkEnja1_MY",
        "outputId": "99c93863-3f42-4c92-aef3-b0cc03ce7de7"
      },
      "source": [
        "a=['good','morning']\r\n",
        "a.append('afternoon')\r\n",
        "print(a)"
      ],
      "execution_count": 33,
      "outputs": [
        {
          "output_type": "stream",
          "text": [
            "['good', 'morning', 'afternoon']\n"
          ],
          "name": "stdout"
        }
      ]
    },
    {
      "cell_type": "code",
      "metadata": {
        "colab": {
          "base_uri": "https://localhost:8080/"
        },
        "id": "AoxSn1mO6ZxP",
        "outputId": "f01a2d77-d754-4d78-926d-53c06dddf993"
      },
      "source": [
        "a.index('afternoon')"
      ],
      "execution_count": 34,
      "outputs": [
        {
          "output_type": "execute_result",
          "data": {
            "text/plain": [
              "2"
            ]
          },
          "metadata": {
            "tags": []
          },
          "execution_count": 34
        }
      ]
    },
    {
      "cell_type": "code",
      "metadata": {
        "colab": {
          "base_uri": "https://localhost:8080/"
        },
        "id": "D3nEJQmL6rVK",
        "outputId": "13ec2148-2be9-412c-a451-a2722027e5c1"
      },
      "source": [
        "a=[40,10,30,20,50]\r\n",
        "a.sort()\r\n",
        "print(a)\r\n"
      ],
      "execution_count": 36,
      "outputs": [
        {
          "output_type": "stream",
          "text": [
            "[10, 20, 30, 40, 50]\n"
          ],
          "name": "stdout"
        }
      ]
    },
    {
      "cell_type": "code",
      "metadata": {
        "colab": {
          "base_uri": "https://localhost:8080/"
        },
        "id": "oynKMmez7NfZ",
        "outputId": "403af28e-cc0e-497f-fc64-e41ffe26ec25"
      },
      "source": [
        "a.reverse()\r\n",
        "print(a)"
      ],
      "execution_count": 37,
      "outputs": [
        {
          "output_type": "stream",
          "text": [
            "[50, 40, 30, 20, 10]\n"
          ],
          "name": "stdout"
        }
      ]
    },
    {
      "cell_type": "code",
      "metadata": {
        "colab": {
          "base_uri": "https://localhost:8080/"
        },
        "id": "kDrkk_o17YAO",
        "outputId": "4d52d39d-2227-4fbe-aaed-019251e59644"
      },
      "source": [
        "a=['a','b','c','d']\r\n",
        "a.pop()\r\n",
        "print(a)"
      ],
      "execution_count": 38,
      "outputs": [
        {
          "output_type": "stream",
          "text": [
            "['a', 'b', 'c']\n"
          ],
          "name": "stdout"
        }
      ]
    },
    {
      "cell_type": "markdown",
      "metadata": {
        "id": "vq6tWLJL77E5"
      },
      "source": [
        "Five functions of Dictionary"
      ]
    },
    {
      "cell_type": "code",
      "metadata": {
        "colab": {
          "base_uri": "https://localhost:8080/"
        },
        "id": "nxydHjPb8Ce_",
        "outputId": "00fbc27b-4c4a-4f3a-9ab1-8777e49545b1"
      },
      "source": [
        "b={\"one\":1,\"two\":2,\"three\":3}\r\n",
        "b.keys()"
      ],
      "execution_count": 39,
      "outputs": [
        {
          "output_type": "execute_result",
          "data": {
            "text/plain": [
              "dict_keys(['one', 'two', 'three'])"
            ]
          },
          "metadata": {
            "tags": []
          },
          "execution_count": 39
        }
      ]
    },
    {
      "cell_type": "code",
      "metadata": {
        "colab": {
          "base_uri": "https://localhost:8080/"
        },
        "id": "CJutaNCM8zeE",
        "outputId": "0a1bb78e-bd53-4a59-cc85-a8c78f2489f2"
      },
      "source": [
        "b.values()"
      ],
      "execution_count": 40,
      "outputs": [
        {
          "output_type": "execute_result",
          "data": {
            "text/plain": [
              "dict_values([1, 2, 3])"
            ]
          },
          "metadata": {
            "tags": []
          },
          "execution_count": 40
        }
      ]
    },
    {
      "cell_type": "code",
      "metadata": {
        "colab": {
          "base_uri": "https://localhost:8080/"
        },
        "id": "YLeVZUlZ87rh",
        "outputId": "865a42bb-fee4-4824-ece9-c69bdb5e6c79"
      },
      "source": [
        "b.items()"
      ],
      "execution_count": 41,
      "outputs": [
        {
          "output_type": "execute_result",
          "data": {
            "text/plain": [
              "dict_items([('one', 1), ('two', 2), ('three', 3)])"
            ]
          },
          "metadata": {
            "tags": []
          },
          "execution_count": 41
        }
      ]
    },
    {
      "cell_type": "code",
      "metadata": {
        "colab": {
          "base_uri": "https://localhost:8080/"
        },
        "id": "NEJqH7Db9ExL",
        "outputId": "c7e0f7ac-6f88-4051-8855-fe972d6f4624"
      },
      "source": [
        "b.update({\"four\":4})\r\n",
        "print(b)"
      ],
      "execution_count": 42,
      "outputs": [
        {
          "output_type": "stream",
          "text": [
            "{'one': 1, 'two': 2, 'three': 3, 'four': 4}\n"
          ],
          "name": "stdout"
        }
      ]
    },
    {
      "cell_type": "code",
      "metadata": {
        "colab": {
          "base_uri": "https://localhost:8080/"
        },
        "id": "9c3htssiAuZZ",
        "outputId": "da6ef88c-7742-4d44-f606-503d995d9ae0"
      },
      "source": [
        "a={'hello'}\r\n",
        "b=2\r\n",
        "c=dict.fromkeys(a,b)\r\n",
        "print(c)"
      ],
      "execution_count": 43,
      "outputs": [
        {
          "output_type": "stream",
          "text": [
            "{'hello': 2}\n"
          ],
          "name": "stdout"
        }
      ]
    },
    {
      "cell_type": "code",
      "metadata": {
        "id": "we23o8hz9ej7"
      },
      "source": [
        ""
      ],
      "execution_count": null,
      "outputs": []
    }
  ]
}